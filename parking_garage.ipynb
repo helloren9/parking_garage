{
 "cells": [
  {
   "cell_type": "code",
   "execution_count": 3,
   "metadata": {},
   "outputs": [
    {
     "name": "stdout",
     "output_type": "stream",
     "text": [
      "Ticket 1 issued. Parking space 1 assigned.\n",
      "Ticket 2 issued. Parking space 2 assigned.\n",
      "Ticket 3 issued. Parking space 3 assigned.\n",
      "Ticket 4 issued. Parking space 4 assigned.\n",
      "Ticket 5 issued. Parking space 5 assigned.\n",
      "Ticket 6 issued. Parking space 6 assigned.\n",
      "Ticket 7 issued. Parking space 7 assigned.\n",
      "Ticket 8 issued. Parking space 8 assigned.\n",
      "Ticket 9 issued. Parking space 9 assigned.\n",
      "Ticket 10 issued. Parking space 10 assigned.\n",
      "Sorry, the parking garage is full.\n",
      "Your ticket has been paid. You have 15 minutes to leave.\n",
      "Thank you, have a nice day!\n",
      "Payment is required before leaving\n",
      "Your ticket has been paid. You have 15 minutes to leave.\n",
      "Thank you, have a nice day!\n",
      "Ticket 3 issued. Parking space 3 assigned.\n",
      "Your ticket has been paid. You have 15 minutes to leave.\n",
      "Thank you, have a nice day!\n",
      "Exiting parking garage.\n"
     ]
    }
   ],
   "source": [
    "class ParkingGarage():\n",
    "    def __init__(self, total_tickets, total_parking_spaces):\n",
    "        self.tickets = [i for i in range(1, total_tickets + 1)]\n",
    "        self.parking_spaces = [i for i in range(1, total_parking_spaces + 1)]\n",
    "        self.current_ticket = {}\n",
    "\n",
    "    def take_ticket(self):\n",
    "        if self.tickets:\n",
    "            ticket = self.tickets.pop(0)\n",
    "            parking_space = self.parking_spaces.pop(0)\n",
    "            self.current_ticket[ticket] = {'parking_space': parking_space, 'paid': False}\n",
    "            print(f\"Ticket {ticket} issued. Parking space {parking_space} assigned.\")\n",
    "        else:\n",
    "            print(\"Sorry, the parking garage is full.\")\n",
    "\n",
    "    def pay_ticket(self):\n",
    "        ticket = int(input(\"Enter your ticket number: \"))\n",
    "        if ticket in self.current_ticket:\n",
    "            amount = input(\"Enter payment amount: \")\n",
    "            if amount:\n",
    "                self.current_ticket[ticket]['paid'] = True\n",
    "                print(\"Your ticket has been paid. You have 15 minutes to leave.\")\n",
    "            else:\n",
    "                print(\"Invalid payment amount.\")\n",
    "        else:\n",
    "            print(\"Invalid ticket number.\")\n",
    "\n",
    "    def leave_garage(self):\n",
    "        ticket = int(input(\"Enter your ticket number: \"))\n",
    "        if ticket in self.current_ticket:\n",
    "            if self.current_ticket[ticket]['paid']:\n",
    "                print(\"Thank you, have a nice day!\")\n",
    "                self.parking_spaces.append(self.current_ticket[ticket]['parking_space'])\n",
    "                self.tickets.append(ticket)\n",
    "                del self.current_ticket[ticket]\n",
    "            else:\n",
    "                print(\"Payment is required before leaving\")\n",
    "        else:\n",
    "            print(\"Invalid ticket number.\")\n",
    "\n",
    "garage = ParkingGarage(10, 10)\n",
    "\n",
    "while True:\n",
    "    action = input(\"Enter 'take' to take a ticket, 'pay' to pay for parking, 'leave' to leave the garage, or 'quit' to exit: \").lower()\n",
    "\n",
    "    if action == 'take':\n",
    "        garage.take_ticket()\n",
    "    elif action == 'pay':\n",
    "        garage.pay_ticket()\n",
    "    elif action == 'leave':\n",
    "        garage.leave_garage()\n",
    "    elif action == 'quit':\n",
    "        print(\"Exiting parking garage.\")\n",
    "        break\n",
    "    else:\n",
    "        print(\"Invalid input. Please try again.\")\n",
    "\n",
    "\n",
    "        "
   ]
  }
 ],
 "metadata": {
  "kernelspec": {
   "display_name": "Python 3",
   "language": "python",
   "name": "python3"
  },
  "language_info": {
   "codemirror_mode": {
    "name": "ipython",
    "version": 3
   },
   "file_extension": ".py",
   "mimetype": "text/x-python",
   "name": "python",
   "nbconvert_exporter": "python",
   "pygments_lexer": "ipython3",
   "version": "3.10.7"
  }
 },
 "nbformat": 4,
 "nbformat_minor": 2
}
